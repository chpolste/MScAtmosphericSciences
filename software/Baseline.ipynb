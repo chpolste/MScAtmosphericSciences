{
 "cells": [
  {
   "cell_type": "markdown",
   "metadata": {},
   "source": [
    "# Baseline Performance\n",
    "\n",
    "How good are predictions based on climatology, persistence or COSMO-7 alone?"
   ]
  },
  {
   "cell_type": "code",
   "execution_count": null,
   "metadata": {
    "collapsed": true
   },
   "outputs": [],
   "source": [
    "import datetime as dt\n",
    "\n",
    "import numpy as np\n",
    "import pandas as pd\n",
    "import matplotlib.pyplot as plt\n",
    "\n",
    "from plots import retrieval_template, statistical_eval\n",
    "from db_tools import read_csv_profiles, read_csv_mean\n",
    "\n",
    "%matplotlib inline\n",
    "\n",
    "plt.rcParams[\"font.family\"] = \"DejaVu Sans\""
   ]
  },
  {
   "cell_type": "markdown",
   "metadata": {},
   "source": [
    "# Data Preparation\n",
    "\n",
    "- Radiosonde climatology\n",
    "- COSMO-7 forecasts with 2 different lead times"
   ]
  },
  {
   "cell_type": "code",
   "execution_count": null,
   "metadata": {
    "collapsed": false
   },
   "outputs": [],
   "source": [
    "T_raso = read_csv_profiles(\"../data/unified/test/T_rasoclim.csv\")\n",
    "\n",
    "T_0006 = read_csv_profiles(\"../data/unified/priors/T_cosmo7+00+06_mean.csv\")\n",
    "T_2430 = read_csv_profiles(\"../data/unified/priors/T_cosmo7+24+30_mean.csv\")\n",
    "\n",
    "T_clim = read_csv_mean(\"../data/unified/priors/T_rasoclim_mean.csv\")\n",
    "\n",
    "T_raso_offset = T_raso.copy()\n",
    "T_raso_offset.index = (T_raso.index + dt.timedelta(hours=24))\n",
    "T_persistence = T_raso_offset.reindex(T_raso.index, method=\"nearest\", tolerance=dt.timedelta(hours=3)).dropna()"
   ]
  },
  {
   "cell_type": "code",
   "execution_count": null,
   "metadata": {
    "collapsed": true
   },
   "outputs": [],
   "source": [
    "q_raso = np.exp(read_csv_profiles(\"../data/unified/test/lnq_rasoclim.csv\"))\n",
    "\n",
    "q_0006 = np.exp(read_csv_profiles(\"../data/unified/priors/lnq_cosmo7+00+06_mean.csv\"))\n",
    "q_2430 = np.exp(read_csv_profiles(\"../data/unified/priors/lnq_cosmo7+24+30_mean.csv\"))\n",
    "\n",
    "q_clim = np.exp(read_csv_mean(\"../data/unified/priors/lnq_rasoclim_mean.csv\"))\n",
    "\n",
    "q_raso_offset = q_raso.copy()\n",
    "q_raso_offset.index = (q_raso.index + dt.timedelta(hours=24))\n",
    "q_persistence = q_raso_offset.reindex(q_raso.index, method=\"nearest\", tolerance=dt.timedelta(hours=3)).dropna()"
   ]
  },
  {
   "cell_type": "markdown",
   "metadata": {},
   "source": [
    "## Statistical Performance"
   ]
  },
  {
   "cell_type": "code",
   "execution_count": null,
   "metadata": {
    "collapsed": false
   },
   "outputs": [],
   "source": [
    "fig, (axT, axq) = plt.subplots(1, 2, figsize=[8, 4.2])\n",
    "\n",
    "statistical_eval(axT, T_raso,\n",
    "         T_0006,\n",
    "         T_2430,\n",
    "         T_clim,\n",
    "         T_persistence,\n",
    "         labels=[\"COSMO-7 +00+06\", \"COSMO-7 +24+30\", \"Climatology\", \"Persistence\"],\n",
    "         colors=[\"#000000\", \"#666666\", \"#1f78b4\", \"#33a02c\"],\n",
    "         bias=False)\n",
    "\n",
    "statistical_eval(axq, q_raso*1000,\n",
    "         q_0006*1000,\n",
    "         q_2430*1000,\n",
    "         q_clim*1000,\n",
    "         q_persistence*1000,\n",
    "         colors=[\"#000000\", \"#666666\", \"#1f78b4\", \"#33a02c\"],\n",
    "         labels=[\"COSMO-7 +00+06\", \"COSMO-7 +24+30\", \"Climatology\", \"Persistence\"],\n",
    "         bias=False)\n",
    "\n",
    "axT.set_title(\"statistical evaluation\", loc=\"left\", size=11)\n",
    "axq.set_title(\"std\", loc=\"right\", size=11)\n",
    "axT.set_xlabel(\"temperature [K]\")\n",
    "axq.set_xlabel(\"specific water content [g/kg]\")\n",
    "axT.set_ylim(0, 12)\n",
    "axq.set_ylim(0, 12)\n",
    "axq.set_ylabel(\"\")\n",
    "axq.legend(loc=\"upper right\", fontsize=11)\n",
    "fig.tight_layout()\n",
    "fig.savefig(\"../tex/figures/retrieval_baseline.pdf\")"
   ]
  },
  {
   "cell_type": "code",
   "execution_count": null,
   "metadata": {
    "collapsed": false
   },
   "outputs": [],
   "source": [
    "len(T_persistence)"
   ]
  }
 ],
 "metadata": {
  "kernelspec": {
   "display_name": "Python 3",
   "language": "python",
   "name": "python3"
  },
  "language_info": {
   "codemirror_mode": {
    "name": "ipython",
    "version": 3
   },
   "file_extension": ".py",
   "mimetype": "text/x-python",
   "name": "python",
   "nbconvert_exporter": "python",
   "pygments_lexer": "ipython3",
   "version": "3.5.2"
  }
 },
 "nbformat": 4,
 "nbformat_minor": 0
}
