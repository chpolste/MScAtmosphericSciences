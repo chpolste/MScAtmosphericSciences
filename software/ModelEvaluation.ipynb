{
 "cells": [
  {
   "cell_type": "markdown",
   "metadata": {},
   "source": [
    "# MWRTM Evaluation\n",
    "\n",
    "Quick evaluation of MWRTM component performance (mainly FAP and Jacobian, also background temperature adjustment)"
   ]
  },
  {
   "cell_type": "code",
   "execution_count": null,
   "metadata": {
    "collapsed": false
   },
   "outputs": [],
   "source": [
    "from collections import OrderedDict\n",
    "from functools import partial\n",
    "import random\n",
    "import datetime as dt\n",
    "\n",
    "import numpy as np\n",
    "import pandas as pd\n",
    "import matplotlib.pyplot as plt\n",
    "from scipy.interpolate import interp1d\n",
    "\n",
    "import mwrt\n",
    "import mwrt.evaluation as meval\n",
    "from mwrt.fapgen import absorption_model\n",
    "from faps_hatpro import *\n",
    "from db_tools import Database\n",
    "\n",
    "%matplotlib inline"
   ]
  },
  {
   "cell_type": "code",
   "execution_count": null,
   "metadata": {
    "collapsed": true
   },
   "outputs": [],
   "source": [
    "db = Database(\"../data/amalg.db\")"
   ]
  },
  {
   "cell_type": "code",
   "execution_count": null,
   "metadata": {
    "collapsed": true
   },
   "outputs": [],
   "source": [
    "FAPs = [FAP22240MHz, FAP23040MHz, FAP23840MHz, FAP25440MHz, FAP26240MHz, FAP27840MHz, FAP31400MHz,\n",
    "        FAP51260MHz, FAP52280MHz, FAP53860MHz, FAP54940MHz, FAP56660MHz, FAP57300MHz, FAP58000MHz]\n",
    "\n",
    "FAPnames = [\"TB_22240MHz\", \"TB_23040MHz\", \"TB_23840MHz\", \"TB_25440MHz\", \"TB_26240MHz\", \"TB_27840MHz\", \"TB_31400MHz\",\n",
    "        \"TB_51260MHz\", \"TB_52280MHz\", \"TB_53860MHz\", \"TB_54940MHz\", \"TB_56660MHz\", \"TB_57300MHz\", \"TB_58000MHz\"]"
   ]
  },
  {
   "cell_type": "code",
   "execution_count": null,
   "metadata": {
    "collapsed": true
   },
   "outputs": [],
   "source": [
    "def get_fap_freq(fap):\n",
    "    return int(fap.__name__[3:8])/1000"
   ]
  },
  {
   "cell_type": "code",
   "execution_count": null,
   "metadata": {
    "collapsed": true
   },
   "outputs": [],
   "source": [
    "def get_profile(where):\n",
    "    df = db.as_dataframe(\"SELECT z, p, T, qvap, qliq FROM profiledata WHERE {};\".format(where)).dropna(axis=0)\n",
    "    lnq = pd.Series(np.log(df[\"qvap\"] + df[\"qliq\"]), index=df.index, name=\"lnq\")\n",
    "    lnq[lnq<-100] = -100\n",
    "    return pd.concat([df, lnq], axis=1)"
   ]
  },
  {
   "cell_type": "code",
   "execution_count": null,
   "metadata": {
    "collapsed": true
   },
   "outputs": [],
   "source": [
    "def relerr(x, y):\n",
    "    return np.abs((x - y)/x)*100"
   ]
  },
  {
   "cell_type": "markdown",
   "metadata": {},
   "source": [
    "## FAP Performance\n",
    "\n",
    "Compare FAP to full absorption."
   ]
  },
  {
   "cell_type": "code",
   "execution_count": null,
   "metadata": {
    "collapsed": true
   },
   "outputs": [],
   "source": [
    "absorp = absorption_model(mwrt.liebe93.refractivity_gaseous, mwrt.tkc.refractivity_lwc)"
   ]
  },
  {
   "cell_type": "code",
   "execution_count": null,
   "metadata": {
    "collapsed": true
   },
   "outputs": [],
   "source": [
    "df = get_profile(\"\"\"z > 500 AND p > 100 AND p < 200 LIMIT 10000\"\"\")"
   ]
  },
  {
   "cell_type": "code",
   "execution_count": null,
   "metadata": {
    "collapsed": false
   },
   "outputs": [],
   "source": [
    "df = db.as_dataframe(\"SELECT p, T, qvap, qliq FROM profiledata WHERE z > 500 AND p > 110 AND p < 200 LIMIT 10000;\").dropna(axis=0)\n",
    "lnq = pd.Series(np.log(df[\"qvap\"] + df[\"qliq\"]), index=df.index, name=\"lnq\")\n",
    "df = pd.concat([df[[\"p\", \"T\"]], lnq], axis=1)"
   ]
  },
  {
   "cell_type": "code",
   "execution_count": null,
   "metadata": {
    "collapsed": false
   },
   "outputs": [],
   "source": [
    "coefs = OrderedDict()\n",
    "for fap in FAPs:\n",
    "    ν = get_fap_freq(fap)\n",
    "    approx = fap(df[\"p\"].values, df[\"T\"].values, df[\"lnq\"].values)\n",
    "    exact = absorp(ν, df[\"p\"].values, df[\"T\"].values, df[\"lnq\"].values)\n",
    "    coefs[ν] = (approx, exact)"
   ]
  },
  {
   "cell_type": "code",
   "execution_count": null,
   "metadata": {
    "collapsed": false
   },
   "outputs": [],
   "source": [
    "fig, ax = plt.subplots(1, 1, figsize=(16, 6))\n",
    "err_pos = np.arange(14) - 0.2\n",
    "val_pos = np.arange(14) + 0.2\n",
    "names = list(coefs.keys())\n",
    "\n",
    "ax.boxplot([x[0]/max(x[1]) for x in coefs.values()], positions=err_pos, widths=0.3, showfliers=False, whis=[0, 90])\n",
    "ax.boxplot([x[1]/max(x[1]) for x in coefs.values()], positions=val_pos, widths=0.3, showfliers=False, whis=[0, 90])\n",
    "ax.set_xticklabels(names)\n",
    "ax.set_xlim(-0.5, 13.5)"
   ]
  },
  {
   "cell_type": "markdown",
   "metadata": {},
   "source": [
    "## Model Jacobian\n",
    "\n",
    "Compare autodiff Jacobian to finite differencing Jacobian."
   ]
  },
  {
   "cell_type": "code",
   "execution_count": null,
   "metadata": {
    "collapsed": false
   },
   "outputs": [],
   "source": [
    "dry_profiles = list(x[0] for x in db.execute(\"\"\"select id from profiles where cloudy = 0 and kind = \"cosmo7\";\"\"\"))\n",
    "cloudy_profiles = list(x[0] for x in db.execute(\"\"\"select id from profiles where cloudy = 1 and kind = \"cosmo7\";\"\"\"))\n",
    "\n",
    "test_profiles = random.sample(dry_profiles, 3) + random.sample(dry_profiles, 3)"
   ]
  },
  {
   "cell_type": "code",
   "execution_count": null,
   "metadata": {
    "collapsed": true
   },
   "outputs": [],
   "source": [
    "model_grid = mwrt.atanspace(1100., 21000., 3000)"
   ]
  },
  {
   "cell_type": "code",
   "execution_count": null,
   "metadata": {
    "collapsed": false
   },
   "outputs": [],
   "source": [
    "angle = 0.\n",
    "results = []\n",
    "\n",
    "for pid in test_profiles:\n",
    "    df = get_profile(\"profile = {}\".format(pid))\n",
    "    z = df[\"z\"].values\n",
    "    p = df[\"p\"].values\n",
    "    T = df[\"T\"].values\n",
    "    lnq = df[\"lnq\"].values\n",
    "    itp = mwrt.LinearInterpolation(source=z, target=model_grid)\n",
    "    model = mwrt.MWRTM(itp, FAP52280MHz)\n",
    "    results.append(meval.fd_jacobian(model, angle, p, T, lnq, perturbation=0.0001))"
   ]
  },
  {
   "cell_type": "code",
   "execution_count": null,
   "metadata": {
    "collapsed": false
   },
   "outputs": [],
   "source": [
    "for bt, dt, dlnq in results:\n",
    "    print(\"{:>10.8f}   {:>10.8f}\".format(np.max(relerr(bt.dT, dt)), np.max(relerr(bt.dlnq, dlnq))))"
   ]
  },
  {
   "cell_type": "code",
   "execution_count": null,
   "metadata": {
    "collapsed": false
   },
   "outputs": [],
   "source": [
    "%timeit -n50 model(angles=angle, data=df)\n",
    "%timeit -n50 model.forward(angle, data=df)\n",
    "pass"
   ]
  },
  {
   "cell_type": "code",
   "execution_count": null,
   "metadata": {
    "collapsed": true
   },
   "outputs": [],
   "source": [
    "model1 = mwrt.MWRTM(itp, FAP52280MHz, background=2.75)\n",
    "model2 = mwrt.MWRTM(itp, FAP52280MHz, background=5.708)"
   ]
  },
  {
   "cell_type": "code",
   "execution_count": null,
   "metadata": {
    "collapsed": false
   },
   "outputs": [],
   "source": [
    "model1.forward(0., data=df), model2.forward(0., data=df, )"
   ]
  },
  {
   "cell_type": "markdown",
   "metadata": {},
   "source": [
    "## Cosmic Background Adjustment\n",
    "\n",
    "Accounts for stratospheric emission."
   ]
  },
  {
   "cell_type": "code",
   "execution_count": null,
   "metadata": {
    "collapsed": false
   },
   "outputs": [],
   "source": [
    "from mwrt.background import USStandardBackground\n",
    "from mwrt.fapgen import as_absorption\n",
    "import mwrt"
   ]
  },
  {
   "cell_type": "code",
   "execution_count": null,
   "metadata": {
    "collapsed": false
   },
   "outputs": [],
   "source": [
    "uss = USStandardBackground(15000, 32000, 120, n=5000)"
   ]
  },
  {
   "cell_type": "code",
   "execution_count": null,
   "metadata": {
    "collapsed": false
   },
   "outputs": [],
   "source": [
    "uss.evaluate(partial(as_absorption(mwrt.liebe93.refractivity_gaseous), 52.28))"
   ]
  }
 ],
 "metadata": {
  "kernelspec": {
   "display_name": "Python 3",
   "language": "python",
   "name": "python3"
  },
  "language_info": {
   "codemirror_mode": {
    "name": "ipython",
    "version": 3
   },
   "file_extension": ".py",
   "mimetype": "text/x-python",
   "name": "python",
   "nbconvert_exporter": "python",
   "pygments_lexer": "ipython3",
   "version": "3.5.2"
  }
 },
 "nbformat": 4,
 "nbformat_minor": 0
}
