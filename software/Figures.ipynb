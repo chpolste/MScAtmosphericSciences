{
 "cells": [
  {
   "cell_type": "markdown",
   "metadata": {},
   "source": [
    "# Figures"
   ]
  },
  {
   "cell_type": "code",
   "execution_count": 1,
   "metadata": {
    "collapsed": false
   },
   "outputs": [],
   "source": [
    "import numpy as np\n",
    "import scipy.stats as stats\n",
    "import matplotlib.pyplot as plt\n",
    "\n",
    "plt.rcParams[\"font.family\"] = \"DejaVu Sans\""
   ]
  },
  {
   "cell_type": "markdown",
   "metadata": {},
   "source": [
    "## Bayes' Theorem Visualization"
   ]
  },
  {
   "cell_type": "code",
   "execution_count": 2,
   "metadata": {
    "collapsed": true
   },
   "outputs": [],
   "source": [
    "x, y = np.meshgrid(np.linspace(-1, 1, 201), np.linspace(-1, 1, 201))\n",
    "pos = np.dstack([x, y])\n",
    "\n",
    "n = 81\n",
    "xx = np.empty([n, n], dtype=float)\n",
    "yy = np.empty([n, n], dtype=float)\n",
    "prior = np.empty([n, n], dtype=float)\n",
    "likelihood = np.empty([n, n], dtype=float)\n",
    "for i, x in enumerate(np.linspace(-1, 1, n)):\n",
    "    for j, y in enumerate(np.linspace(-1, 1, n)):\n",
    "        xx[i,j] = x\n",
    "        yy[i,j] = y\n",
    "        prior[i,j] = stats.multivariate_normal([0., 0.], [[0.2, 0.], [0., 0.2]]).pdf([x, y])\n",
    "        likelihood[i,j] = stats.multivariate_normal([0.1*x - 0.3, -0.3*y], [[0.6, 0.58], [0.58, 0.6]]).pdf([x, y])\n",
    "posterior = likelihood*prior\n",
    "\n",
    "prior = prior/np.max(prior)\n",
    "likelihood = likelihood/np.max(likelihood)\n",
    "posterior = posterior/np.max(posterior)\n",
    "\n",
    "levels = 7\n",
    "cmap = plt.get_cmap(\"Greys\", levels)\n",
    "norm = plt.Normalize(0.01, 1)\n",
    "\n",
    "fig, (ax1, ax2, ax3) = plt.subplots(1, 3, figsize=(11.5, 4))\n",
    "ax1.contour(xx, yy, prior, levels, cmap=cmap, norm=norm, zorder=-20)\n",
    "ax1.contourf(xx, yy, prior, levels, cmap=cmap, norm=norm, zorder=-10)\n",
    "ax1.set_title(\"Prior distribution\")\n",
    "ax2.contour(xx, yy, likelihood, levels, cmap=cmap, norm=norm, zorder=-20)\n",
    "ax2.contourf(xx, yy, likelihood, levels, cmap=cmap, norm=norm, zorder=-10)\n",
    "ax2.set_title(\"Likelihood function\")\n",
    "ax3.contour(xx, yy, posterior, levels, cmap=cmap, norm=norm, zorder=-20)\n",
    "ax3.contourf(xx, yy, posterior, levels, cmap=cmap, norm=norm, zorder=-10)\n",
    "ax3.set_title(\"Posterior distribution\")\n",
    "for ax in [ax1, ax2, ax3]:\n",
    "    ax.set_xticks([])\n",
    "    ax.set_yticks([])\n",
    "fig.tight_layout()\n",
    "fig.savefig(\"../tex/figures/bayes_theorem.pdf\")"
   ]
  }
 ],
 "metadata": {
  "kernelspec": {
   "display_name": "Python 3",
   "language": "python",
   "name": "python3"
  },
  "language_info": {
   "codemirror_mode": {
    "name": "ipython",
    "version": 3
   },
   "file_extension": ".py",
   "mimetype": "text/x-python",
   "name": "python",
   "nbconvert_exporter": "python",
   "pygments_lexer": "ipython3",
   "version": "3.5.1"
  }
 },
 "nbformat": 4,
 "nbformat_minor": 0
}
