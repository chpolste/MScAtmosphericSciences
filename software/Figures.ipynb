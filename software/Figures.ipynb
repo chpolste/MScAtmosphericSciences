{
 "cells": [
  {
   "cell_type": "markdown",
   "metadata": {},
   "source": [
    "# Figures"
   ]
  },
  {
   "cell_type": "code",
   "execution_count": null,
   "metadata": {
    "collapsed": false
   },
   "outputs": [],
   "source": [
    "import numpy as np\n",
    "import matplotlib.pyplot as plt\n",
    "\n",
    "%matplotlib inline\n",
    "\n",
    "plt.rcParams[\"font.family\"] = \"DejaVu Sans\""
   ]
  },
  {
   "cell_type": "markdown",
   "metadata": {},
   "source": [
    "## Bayes' Theorem Visualization"
   ]
  },
  {
   "cell_type": "code",
   "execution_count": null,
   "metadata": {
    "collapsed": true
   },
   "outputs": [],
   "source": [
    "import scipy.stats as stats"
   ]
  },
  {
   "cell_type": "code",
   "execution_count": null,
   "metadata": {
    "collapsed": true
   },
   "outputs": [],
   "source": [
    "x, y = np.meshgrid(np.linspace(-1, 1, 201), np.linspace(-1, 1, 201))\n",
    "pos = np.dstack([x, y])\n",
    "\n",
    "n = 81\n",
    "xx = np.empty([n, n], dtype=float)\n",
    "yy = np.empty([n, n], dtype=float)\n",
    "prior = np.empty([n, n], dtype=float)\n",
    "likelihood = np.empty([n, n], dtype=float)\n",
    "for i, x in enumerate(np.linspace(-1, 1, n)):\n",
    "    for j, y in enumerate(np.linspace(-1, 1, n)):\n",
    "        xx[i,j] = x\n",
    "        yy[i,j] = y\n",
    "        prior[i,j] = stats.multivariate_normal([0., 0.], [[0.2, 0.], [0., 0.2]]).pdf([x, y])\n",
    "        likelihood[i,j] = stats.multivariate_normal([0.1*x - 0.3, -0.3*y], [[0.6, 0.58], [0.58, 0.6]]).pdf([x, y])\n",
    "posterior = likelihood*prior\n",
    "\n",
    "prior = prior/np.max(prior)\n",
    "likelihood = likelihood/np.max(likelihood)\n",
    "posterior = posterior/np.max(posterior)\n",
    "\n",
    "levels = 7\n",
    "cmap = plt.get_cmap(\"Greys\", levels)\n",
    "norm = plt.Normalize(0.01, 1)\n",
    "\n",
    "fig, (ax1, ax2, ax3) = plt.subplots(1, 3, figsize=(11.5, 4))\n",
    "ax1.contour(xx, yy, prior, levels, cmap=cmap, norm=norm, zorder=-20)\n",
    "ax1.contourf(xx, yy, prior, levels, cmap=cmap, norm=norm, zorder=-10)\n",
    "ax1.set_title(\"Prior distribution\")\n",
    "ax2.contour(xx, yy, likelihood, levels, cmap=cmap, norm=norm, zorder=-20)\n",
    "ax2.contourf(xx, yy, likelihood, levels, cmap=cmap, norm=norm, zorder=-10)\n",
    "ax2.set_title(\"Likelihood function\")\n",
    "ax3.contour(xx, yy, posterior, levels, cmap=cmap, norm=norm, zorder=-20)\n",
    "ax3.contourf(xx, yy, posterior, levels, cmap=cmap, norm=norm, zorder=-10)\n",
    "ax3.set_title(\"Posterior distribution\")\n",
    "for ax in [ax1, ax2, ax3]:\n",
    "    ax.set_xticks([])\n",
    "    ax.set_yticks([])\n",
    "fig.tight_layout()\n",
    "#fig.savefig(\"../tex/figures/bayes_theorem.pdf\")"
   ]
  },
  {
   "cell_type": "markdown",
   "metadata": {},
   "source": [
    "## Bayesian Linear Regression"
   ]
  },
  {
   "cell_type": "code",
   "execution_count": null,
   "metadata": {
    "collapsed": true
   },
   "outputs": [],
   "source": [
    "from regression import LinearRegression\n",
    "\n",
    "def flatten(*args):\n",
    "    return (arg.flatten() for arg in args)"
   ]
  },
  {
   "cell_type": "code",
   "execution_count": null,
   "metadata": {
    "collapsed": false
   },
   "outputs": [],
   "source": [
    "np.random.seed(2)\n",
    "cov = 0.2**2\n",
    "x = np.vstack([\n",
    "        np.random.normal(1.8, size=[6,1]),\n",
    "        np.random.normal(-1.8, size=[6,1])\n",
    "        ])\n",
    "y = np.sin(x) + np.random.normal(scale=np.sqrt(cov), size=x.shape)\n",
    "x_ref = np.linspace(-5, 5, 100).reshape(-1, 1)\n",
    "\n",
    "bases = [\n",
    "        lambda x: np.hstack([1., x, x**2, x**3, x**4, x**5]),\n",
    "        lambda x: np.hstack([1., x]),\n",
    "        lambda x: np.hstack([np.exp(-0.5*(x-μ)**2) for μ in range(-3, 4)])\n",
    "        ]\n",
    "alphas = [0.1, 0.1, 1]\n",
    "\n",
    "fig, (ax1, ax2, ax3) = plt.subplots(1, 3, figsize=(8, 2.5))\n",
    "for ax, basis, alpha in zip([ax1, ax2, ax3], bases, alphas):\n",
    "    l = LinearRegression(basis, β=1/cov, α=alpha)\n",
    "    l.fit(x, y)\n",
    "    yy, std = flatten(*l.predict(x_ref, samples=\"std\"))\n",
    "    ax.plot(x_ref, yy, color=\"k\", linewidth=2, zorder=-10)\n",
    "    ax.fill_between(x_ref.flatten(), yy-std, yy+std, color=\"#BBBBBB\", zorder=-40)\n",
    "    ax.fill_between(x_ref.flatten(), yy-std*3, yy+std*3, color=\"#E0E0E0\", zorder=-50)\n",
    "    ax.scatter(*flatten(x, y), 40, edgecolor=\"#000000\", facecolor=\"#FFFFFF\", linewidth=1.2)\n",
    "    ax.set_xlim(-5, 5)\n",
    "    ax.set_ylim(-2, 2)\n",
    "    ax.set_yticks([-2, -1, 0, 1, 2])\n",
    "    ax.set_yticklabels([\"-2\", \"-1\", \"0\", \"1\", \"2\"])\n",
    "    ax.label_outer()\n",
    "fig.tight_layout()\n",
    "#fig.savefig(\"../tex/figures/bayesian_regression.pdf\")"
   ]
  },
  {
   "cell_type": "markdown",
   "metadata": {},
   "source": [
    "## Absorption in the Microwave Region"
   ]
  },
  {
   "cell_type": "code",
   "execution_count": null,
   "metadata": {
    "collapsed": true
   },
   "outputs": [],
   "source": [
    "import mwrt\n",
    "import formulas as fml"
   ]
  },
  {
   "cell_type": "code",
   "execution_count": null,
   "metadata": {
    "collapsed": false
   },
   "outputs": [],
   "source": [
    "νs = np.linspace(10, 80, 1000)\n",
    "T = 273.15\n",
    "θ = 300/T\n",
    "p = 850.\n",
    "rh = 100.\n",
    "esat = fml.esat(T=T)\n",
    "e = fml.e(esat=esat, RH=rh)\n",
    "qliq = 0.0001\n",
    "\n",
    "ylim = 8.0e-7, 1.0e-2\n",
    "hatpro_o2 = np.array([22.24, 23.04, 23.84, 25.44, 26.24, 27.84, 31.40])\n",
    "hatpro_hu = np.array([51.26, 52.28, 53.86, 54.94, 56.66, 57.30, 58.00])\n",
    "\n",
    "def as_absorp(f):\n",
    "    def absorp(ν, *args, **kwargs):\n",
    "        return 4*np.pi*ν*1.0e9/299792458.*np.imag(f(ν, *args, **kwargs))\n",
    "    return absorp\n",
    "\n",
    "gas_absorp = as_absorp(mwrt.liebe93.refractivity_gaseous)\n",
    "h2o_absorp = as_absorp(mwrt.liebe93.refractivity_H2O)\n",
    "cld_absorp = as_absorp(mwrt.tkc.refractivity_lwc)\n",
    "\n",
    "α_gas = gas_absorp(νs, θ, p-e, e)\n",
    "α_h2o = h2o_absorp(νs, θ, p-e, e)\n",
    "α_dry = α_gas - α_h2o\n",
    "α_cld = qliq * fml.ρ(T=T, p=p, e=e) * cld_absorp(νs, θ)\n",
    "\n",
    "α_ho2 = gas_absorp(hatpro_o2, θ, p-e, e) + qliq * fml.ρ(T=T, p=p, e=e) * cld_absorp(hatpro_o2, θ)\n",
    "α_hhu = gas_absorp(hatpro_hu, θ, p-e, e) + qliq * fml.ρ(T=T, p=p, e=e) * cld_absorp(hatpro_hu, θ)\n",
    "\n",
    "fig, ax = plt.subplots(1, 1, figsize=(8, 3.5))\n",
    "ax.semilogy(νs, α_gas + α_cld, color=\"#000000\", linewidth=2.5, zorder=-10, label=\"total\")\n",
    "ax.semilogy(νs, α_cld, linewidth=1.5, color=\"#666666\", zorder=-50, label=\"cloud\")\n",
    "ax.semilogy(νs, α_dry, linewidth=1.5, color=\"#33a02c\", zorder=-40, label=\"dry\")\n",
    "ax.semilogy(νs, α_h2o, linewidth=1.5, color=\"#1f78b4\", zorder=-30, label=\"H₂O\")\n",
    "ax.scatter(hatpro_o2, α_ho2*1.55, 90, marker=\"|\", zorder=-5, color=\"#000000\")\n",
    "ax.scatter(hatpro_o2, α_ho2*1.35, 20, marker=\"v\", zorder=-5, color=\"#000000\")\n",
    "ax.scatter(hatpro_hu, α_hhu*1.55, 90, marker=\"|\", zorder=-5, color=\"#000000\")\n",
    "ax.scatter(hatpro_hu, α_hhu*1.35, 20, marker=\"v\", zorder=-5, color=\"#000000\")\n",
    "\n",
    "ax.legend(loc=\"upper left\", ncol=2)\n",
    "ax.text(24, 1.3e-4, \"K band\", ha=\"center\", fontsize=12)\n",
    "ax.text(60, 6.0e-4, \"V band\", ha=\"center\", fontsize=12)\n",
    "\n",
    "ax.set_xlabel(\"frequency [GHz]\")\n",
    "ax.set_ylabel(\"absorption [1/m]\")\n",
    "\n",
    "ax.set_ylim(*ylim)\n",
    "ax.set_xlim(min(νs), max(νs))\n",
    "fig.tight_layout()\n",
    "#fig.savefig(\"../tex/figures/absorption.pdf\")"
   ]
  }
 ],
 "metadata": {
  "kernelspec": {
   "display_name": "Python 3",
   "language": "python",
   "name": "python3"
  },
  "language_info": {
   "codemirror_mode": {
    "name": "ipython",
    "version": 3
   },
   "file_extension": ".py",
   "mimetype": "text/x-python",
   "name": "python",
   "nbconvert_exporter": "python",
   "pygments_lexer": "ipython3",
   "version": "3.5.2"
  }
 },
 "nbformat": 4,
 "nbformat_minor": 0
}
