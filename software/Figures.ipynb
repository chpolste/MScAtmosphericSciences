{
 "cells": [
  {
   "cell_type": "markdown",
   "metadata": {},
   "source": [
    "# Figures"
   ]
  },
  {
   "cell_type": "code",
   "execution_count": null,
   "metadata": {
    "collapsed": false
   },
   "outputs": [],
   "source": [
    "import numpy as np\n",
    "import matplotlib.pyplot as plt\n",
    "from matplotlib import gridspec\n",
    "\n",
    "%matplotlib inline\n",
    "\n",
    "plt.rcParams[\"font.family\"] = \"DejaVu Sans\""
   ]
  },
  {
   "cell_type": "markdown",
   "metadata": {},
   "source": [
    "<h2 id=\"tocheading\">Table of Contents</h2>\n",
    "<div id=\"toc\"></div>"
   ]
  },
  {
   "cell_type": "code",
   "execution_count": null,
   "metadata": {
    "collapsed": false
   },
   "outputs": [],
   "source": [
    "%%javascript\n",
    "$.getScript('https://kmahelona.github.io/ipython_notebook_goodies/ipython_notebook_toc.js')"
   ]
  },
  {
   "cell_type": "markdown",
   "metadata": {},
   "source": [
    "## Some general stuff\n",
    "\n",
    "- Axis labels start with a lowercase letter, e.g. _altitude_ not _Altitude_"
   ]
  },
  {
   "cell_type": "markdown",
   "metadata": {},
   "source": [
    "## Bayes' Theorem Visualization"
   ]
  },
  {
   "cell_type": "code",
   "execution_count": null,
   "metadata": {
    "collapsed": true
   },
   "outputs": [],
   "source": [
    "import scipy.stats as stats"
   ]
  },
  {
   "cell_type": "code",
   "execution_count": null,
   "metadata": {
    "collapsed": true
   },
   "outputs": [],
   "source": [
    "x, y = np.meshgrid(np.linspace(-1, 1, 201), np.linspace(-1, 1, 201))\n",
    "pos = np.dstack([x, y])\n",
    "\n",
    "n = 81\n",
    "xx = np.empty([n, n], dtype=float)\n",
    "yy = np.empty([n, n], dtype=float)\n",
    "prior = np.empty([n, n], dtype=float)\n",
    "likelihood = np.empty([n, n], dtype=float)\n",
    "for i, x in enumerate(np.linspace(-1, 1, n)):\n",
    "    for j, y in enumerate(np.linspace(-1, 1, n)):\n",
    "        xx[i,j] = x\n",
    "        yy[i,j] = y\n",
    "        prior[i,j] = stats.multivariate_normal([0., 0.], [[0.2, 0.], [0., 0.2]]).pdf([x, y])\n",
    "        likelihood[i,j] = stats.multivariate_normal([0.1*x - 0.3, -0.3*y], [[0.6, 0.58], [0.58, 0.6]]).pdf([x, y])\n",
    "posterior = likelihood*prior\n",
    "\n",
    "prior = prior/np.max(prior)\n",
    "likelihood = likelihood/np.max(likelihood)\n",
    "posterior = posterior/np.max(posterior)"
   ]
  },
  {
   "cell_type": "code",
   "execution_count": null,
   "metadata": {
    "collapsed": false
   },
   "outputs": [],
   "source": [
    "levels = 7\n",
    "cmap = plt.get_cmap(\"Greys\", levels)\n",
    "norm = plt.Normalize(0.01, 1)\n",
    "\n",
    "fig, (ax1, ax2, ax3) = plt.subplots(1, 3, figsize=(9, 3.2))\n",
    "ax1.contour(xx, yy, prior, levels, cmap=cmap, norm=norm, zorder=-20)\n",
    "ax1.contourf(xx, yy, prior, levels, cmap=cmap, norm=norm, zorder=-10)\n",
    "ax1.set_title(\"Prior distribution\", size=11)\n",
    "ax2.contour(xx, yy, likelihood, levels, cmap=cmap, norm=norm, zorder=-20)\n",
    "ax2.contourf(xx, yy, likelihood, levels, cmap=cmap, norm=norm, zorder=-10)\n",
    "ax2.set_title(\"Likelihood function\", size=11)\n",
    "ax3.contour(xx, yy, posterior, levels, cmap=cmap, norm=norm, zorder=-20)\n",
    "ax3.contourf(xx, yy, posterior, levels, cmap=cmap, norm=norm, zorder=-10)\n",
    "ax3.set_title(\"Posterior distribution\", size=11)\n",
    "for ax in [ax1, ax2, ax3]:\n",
    "    ax.set_xticks([0])\n",
    "    ax.set_xticklabels([])\n",
    "    ax.set_yticks([0])\n",
    "    ax.set_yticklabels([])\n",
    "fig.tight_layout()\n",
    "#fig.savefig(\"../tex/figures/bayes_theorem.pdf\")"
   ]
  },
  {
   "cell_type": "markdown",
   "metadata": {},
   "source": [
    "## Bayesian Linear Regression"
   ]
  },
  {
   "cell_type": "code",
   "execution_count": null,
   "metadata": {
    "collapsed": true
   },
   "outputs": [],
   "source": [
    "from regression import LinearRegression\n",
    "\n",
    "def flatten(*args):\n",
    "    return (arg.flatten() for arg in args)"
   ]
  },
  {
   "cell_type": "code",
   "execution_count": null,
   "metadata": {
    "collapsed": false
   },
   "outputs": [],
   "source": [
    "np.random.seed(2)\n",
    "cov = 0.2**2\n",
    "x = np.vstack([\n",
    "        np.random.normal(1.8, size=[6,1]),\n",
    "        np.random.normal(-1.8, size=[6,1])\n",
    "        ])\n",
    "y = np.sin(x) + np.random.normal(scale=np.sqrt(cov), size=x.shape)\n",
    "x_ref = np.linspace(-5, 5, 100).reshape(-1, 1)\n",
    "\n",
    "bases = [\n",
    "        lambda x: np.hstack([1., x, x**2, x**3, x**4, x**5]),\n",
    "        lambda x: np.hstack([1., x]),\n",
    "        lambda x: np.hstack([np.exp(-0.5*(x-μ)**2) for μ in range(-3, 4)])\n",
    "        ]\n",
    "alphas = [0.1, 0.1, 1]\n",
    "\n",
    "fig, (ax1, ax2, ax3) = plt.subplots(1, 3, figsize=(8, 2.7))\n",
    "for ax, basis, alpha in zip([ax1, ax2, ax3], bases, alphas):\n",
    "    l = LinearRegression(basis, β=1/cov, α=alpha)\n",
    "    l.fit(x, y)\n",
    "    yy, std = flatten(*l.predict(x_ref, samples=\"std\"))\n",
    "    ax.plot(x_ref, yy, color=\"k\", linewidth=2, zorder=-10)\n",
    "    ax.fill_between(x_ref.flatten(), yy-std, yy+std, color=\"#BBBBBB\", zorder=-40)\n",
    "    ax.fill_between(x_ref.flatten(), yy-std*3, yy+std*3, color=\"#E0E0E0\", zorder=-50)\n",
    "    ax.scatter(*flatten(x, y), 40, edgecolor=\"#000000\", facecolor=\"#FFFFFF\", linewidth=1.2)\n",
    "    ax.set_xlim(-5, 5)\n",
    "    ax.set_ylim(-2, 2)\n",
    "    ax.set_yticks([-2, -1, 0, 1, 2])\n",
    "    ax.set_yticklabels([\"-2\", \"-1\", \"0\", \"1\", \"2\"])\n",
    "    ax.set_xlabel(\"predictor\")\n",
    "    ax.label_outer()\n",
    "ax1.set_ylabel(\"target\")\n",
    "fig.tight_layout()\n",
    "#fig.savefig(\"../tex/figures/bayesian_regression.pdf\")"
   ]
  },
  {
   "cell_type": "markdown",
   "metadata": {},
   "source": [
    "## Absorption in the Microwave Region"
   ]
  },
  {
   "cell_type": "code",
   "execution_count": null,
   "metadata": {
    "collapsed": true
   },
   "outputs": [],
   "source": [
    "import mwrt\n",
    "import formulas as fml"
   ]
  },
  {
   "cell_type": "code",
   "execution_count": null,
   "metadata": {
    "collapsed": false
   },
   "outputs": [],
   "source": [
    "νs = np.linspace(10, 80, 1000)\n",
    "T = 273.15\n",
    "θ = 300/T\n",
    "p = 850.\n",
    "rh = 100.\n",
    "esat = fml.esat(T=T)\n",
    "e = fml.e(esat=esat, RH=rh)\n",
    "qliq = 0.0001\n",
    "\n",
    "ylim = 8.0e-7, 1.0e-2\n",
    "hatpro_o2 = np.array([22.24, 23.04, 23.84, 25.44, 26.24, 27.84, 31.40])\n",
    "hatpro_hu = np.array([51.26, 52.28, 53.86, 54.94, 56.66, 57.30, 58.00])\n",
    "\n",
    "def as_absorp(f):\n",
    "    def absorp(ν, *args, **kwargs):\n",
    "        return 4*np.pi*ν*1.0e9/299792458.*np.imag(f(ν, *args, **kwargs))\n",
    "    return absorp\n",
    "\n",
    "gas_absorp = as_absorp(mwrt.liebe93.refractivity_gaseous)\n",
    "h2o_absorp = as_absorp(mwrt.liebe93.refractivity_H2O)\n",
    "cld_absorp = as_absorp(mwrt.tkc.refractivity_lwc)\n",
    "\n",
    "α_gas = gas_absorp(νs, θ, p-e, e)\n",
    "α_h2o = h2o_absorp(νs, θ, p-e, e)\n",
    "α_dry = α_gas - α_h2o\n",
    "α_cld = qliq * fml.ρ(T=T, p=p, e=e) * cld_absorp(νs, θ)\n",
    "\n",
    "α_ho2 = gas_absorp(hatpro_o2, θ, p-e, e) + qliq * fml.ρ(T=T, p=p, e=e) * cld_absorp(hatpro_o2, θ)\n",
    "α_hhu = gas_absorp(hatpro_hu, θ, p-e, e) + qliq * fml.ρ(T=T, p=p, e=e) * cld_absorp(hatpro_hu, θ)\n",
    "\n",
    "fig, ax = plt.subplots(1, 1, figsize=(8, 3.5))\n",
    "ax.semilogy(νs, α_gas + α_cld, color=\"#000000\", linewidth=2.5, zorder=-10, label=\"total\")\n",
    "ax.semilogy(νs, α_cld, linewidth=1.5, color=\"#666666\", zorder=-50, label=\"cloud\")\n",
    "ax.semilogy(νs, α_dry, linewidth=1.5, color=\"#33a02c\", zorder=-40, label=\"dry\")\n",
    "ax.semilogy(νs, α_h2o, linewidth=1.5, color=\"#1f78b4\", zorder=-30, label=\"H₂O\")\n",
    "ax.scatter(hatpro_o2, α_ho2*1.55, 90, marker=\"|\", zorder=-5, color=\"#000000\")\n",
    "ax.scatter(hatpro_o2, α_ho2*1.35, 20, marker=\"v\", zorder=-5, color=\"#000000\")\n",
    "ax.scatter(hatpro_hu, α_hhu*1.55, 90, marker=\"|\", zorder=-5, color=\"#000000\")\n",
    "ax.scatter(hatpro_hu, α_hhu*1.35, 20, marker=\"v\", zorder=-5, color=\"#000000\")\n",
    "\n",
    "ax.legend(loc=\"upper left\", ncol=2)\n",
    "ax.text(24, 1.3e-4, \"K band\", ha=\"center\", fontsize=12)\n",
    "ax.text(60, 6.0e-4, \"V band\", ha=\"center\", fontsize=12)\n",
    "\n",
    "ax.set_xlabel(\"frequency [GHz]\")\n",
    "ax.set_ylabel(\"absorption [1/m]\")\n",
    "\n",
    "ax.set_ylim(*ylim)\n",
    "ax.set_xlim(min(νs), max(νs))\n",
    "fig.tight_layout()\n",
    "#fig.savefig(\"../tex/figures/absorption.pdf\")"
   ]
  },
  {
   "cell_type": "markdown",
   "metadata": {},
   "source": [
    "## Verification of Gaussian Assumption"
   ]
  },
  {
   "cell_type": "code",
   "execution_count": null,
   "metadata": {
    "collapsed": false
   },
   "outputs": [],
   "source": [
    "from scipy.stats import norm\n",
    "from db_tools import read_csv_profiles"
   ]
  },
  {
   "cell_type": "code",
   "execution_count": null,
   "metadata": {
    "collapsed": false
   },
   "outputs": [],
   "source": [
    "T = read_csv_profiles(\"../data/unified/T_raso.csv\")\n",
    "qvap = read_csv_profiles(\"../data/unified/qvap_raso.csv\")\n",
    "qliq = read_csv_profiles(\"../data/unified/qliq_raso.csv\")\n",
    "q = qvap + qliq\n",
    "lnq = np.log(q)\n",
    "\n",
    "level = \"z=1366m\"\n",
    "\n",
    "fig, (ax1, ax2, ax3) = plt.subplots(1, 3, figsize=(7.5, 2.3))\n",
    "\n",
    "counts, *_ = ax1.hist(T[level].values, bins=np.linspace(250, 300, 15), edgecolor=\"#666666\", color=\"#BBBBBB\", linewidth=1.5)\n",
    "grd = np.linspace(248, 302, 70)\n",
    "pdf = norm(*norm.fit(T[level].values)).pdf(grd)\n",
    "ax1.plot(grd, pdf/pdf.max()*counts.max(), color=\"k\", linewidth=1.5)\n",
    "ax1.set_xticks([250, 260, 270, 280, 290, 300])\n",
    "ax1.set_xlim(248, 302)\n",
    "ax1.set_title(\"T [K]\", loc=\"right\", size=10)\n",
    "\n",
    "counts, *_ = ax2.hist(q[level].values, bins=np.linspace(0, 0.015, 20), edgecolor=\"#666666\", color=\"#BBBBBB\", linewidth=1.5)\n",
    "ax2.set_xticks([0., 0.005, 0.01, 0.015])\n",
    "grd = np.linspace(-0.001, 0.016, 70)\n",
    "pdf = norm(*norm.fit(q[level].values)).pdf(grd)\n",
    "ax2.plot(grd, pdf/pdf.max()*counts.max(), color=\"k\", linewidth=1.5)\n",
    "ax2.set_xlim(-0.001, 0.016)\n",
    "ax2.set_title(\"q [kg/kg]\", loc=\"right\", size=10)\n",
    "\n",
    "counts, *_ = ax3.hist(lnq[level].values, bins=np.linspace(-8, -3.5, 20), edgecolor=\"#666666\", color=\"#BBBBBB\", linewidth=1.5)\n",
    "grd = np.linspace(-8.2, -3.2, 70)\n",
    "pdf = norm(*norm.fit(lnq[level].values)).pdf(grd)\n",
    "ax3.plot(grd, pdf/pdf.max()*counts.max(), color=\"k\", linewidth=1.5)\n",
    "ax3.set_xticks([-8, -7, -6, -5, -4])\n",
    "ax3.set_xlim(-8.2, -3.2)\n",
    "ax3.set_title(\"ln(q)\", loc=\"right\", size=10)\n",
    "\n",
    "for ax in [ax1, ax2, ax3]:\n",
    "    ax.set_title(\"1366 m\", size=10, loc=\"left\")\n",
    "    ax.set_yticks([])\n",
    "ax1.set_ylabel(\"normalized counts\")\n",
    "fig.tight_layout(pad=0.3)\n",
    "#fig.savefig(\"../tex/figures/gauss_verification.pdf\")"
   ]
  },
  {
   "cell_type": "markdown",
   "metadata": {},
   "source": [
    "## Weighting Functions"
   ]
  },
  {
   "cell_type": "code",
   "execution_count": null,
   "metadata": {
    "collapsed": false
   },
   "outputs": [],
   "source": [
    "from mwrt import MWRTM, LinearInterpolation\n",
    "from optimal_estimation import VirtualHATPRO\n",
    "import formulas as fml"
   ]
  },
  {
   "cell_type": "code",
   "execution_count": null,
   "metadata": {
    "collapsed": false
   },
   "outputs": [],
   "source": [
    "z = np.logspace(np.log10(612), np.log10(12612), 150)\n",
    "T = 288.15 - z * 0.0065\n",
    "T[z>11000] = 216.65\n",
    "p = fml.p(z=z, T=T, q=0, p0=940)\n",
    "rh = 0.1 + (T-216.65)/(T[0] - 216.65) * 0.7\n",
    "lnq = np.log(fml.qvap(p=p, T=T, RH=rh))\n",
    "\n",
    "model_grid = np.logspace(np.log10(612), np.log10(12612), 3000)\n",
    "itp = LinearInterpolation(source=z, target=model_grid)"
   ]
  },
  {
   "cell_type": "markdown",
   "metadata": {},
   "source": [
    "### Multiple Frequencies at Zenith"
   ]
  },
  {
   "cell_type": "code",
   "execution_count": null,
   "metadata": {
    "collapsed": false
   },
   "outputs": [],
   "source": [
    "kband = VirtualHATPRO.absorptions[:7]\n",
    "vband = VirtualHATPRO.absorptions[7:]\n",
    "titles = [\"V band, temperature\",\n",
    "          \"K band, humidity\"]\n",
    "colors = [\"#\"+c*6 for c in [\"0\", \"2\", \"4\", \"6\", \"8\", \"A\", \"B\"]]\n",
    "\n",
    "fig, (ax1, ax2) = plt.subplots(1, 2, figsize=(8, 3.5))\n",
    "for ax, title in zip([ax1, ax2], titles):\n",
    "    faps = vband if title.startswith(\"V\") else kband\n",
    "    res = MWRTM.simulate_radiometer(itp, faps, angles=[0.], p=p, T=T, lnq=lnq)\n",
    "    jac = res.dT if title.startswith(\"V\") else res.dlnq\n",
    "    jac[:,0] *= 2\n",
    "    jac[:,-1] *= 2\n",
    "    for row, color in zip(jac, colors):\n",
    "        ax.plot(row/np.max(jac), (z-612)/1000, color=color, linewidth=2)\n",
    "    ax.set_xticks([0, 0.2, 0.4, 0.6, 0.8, 1.])\n",
    "    ax.set_ylim(0,8)\n",
    "    ax.label_outer()\n",
    "    ax.set_title(title, loc=\"right\", size=11)\n",
    "ax1.set_ylabel(\"height above ground [km]\")\n",
    "ax1.set_xlim(-0.18, 1.05)\n",
    "fig.tight_layout()\n",
    "#fig.savefig(\"../tex/figures/jacobian_frequency.pdf\")"
   ]
  },
  {
   "cell_type": "markdown",
   "metadata": {},
   "source": [
    "### Same Frequency at Elevations"
   ]
  },
  {
   "cell_type": "code",
   "execution_count": null,
   "metadata": {
    "collapsed": false
   },
   "outputs": [],
   "source": [
    "freqs = [54.94, 58.00]\n",
    "absorp = [VirtualHATPRO.absorptions[-4], VirtualHATPRO.absorptions[-1]]\n",
    "angles = [0., 60., 65., 70., 75., 80., 85.]\n",
    "colors = [\"#1f78b4\"] + [\"#\"+c*6 for c in [\"0\", \"2\", \"4\", \"6\", \"8\", \"A\", \"B\"]]\n",
    "\n",
    "fig, (ax1, ax2) = plt.subplots(1, 2, figsize=(8, 3.5))\n",
    "for ax, freq, fap in zip([ax1, ax2], freqs, absorp):\n",
    "    model = MWRTM(itp, fap)\n",
    "    res = model(angles=angles, p=p, T=T, lnq=lnq)\n",
    "    res.dT[:,0] *= 2\n",
    "    for row, color in zip(res.dT, colors):\n",
    "        ax.plot(row/np.max(np.abs(res.dT)), (z-612)/1000, color=color, linewidth=2)\n",
    "    ax.set_ylim(0, 1.)\n",
    "    ax.label_outer()\n",
    "    ax.set_title(\"{:>5.2f} GHz\".format(freq), loc=\"right\", size=11)\n",
    "ax1.set_ylabel(\"height above ground [km]\")\n",
    "ax1.set_xlim(0, 0.55)\n",
    "ax1.set_xticks([0, 0.1, 0.2, 0.3, 0.4, 0.5])\n",
    "ax2.set_xlim(0, 0.35)\n",
    "ax2.set_xticks([0, 0.1, 0.2, 0.3])\n",
    "fig.tight_layout()\n",
    "#fig.savefig(\"../tex/figures/jacobian_angle.pdf\")"
   ]
  },
  {
   "cell_type": "markdown",
   "metadata": {},
   "source": [
    "## Model Intercomparison"
   ]
  },
  {
   "cell_type": "code",
   "execution_count": null,
   "metadata": {
    "collapsed": true
   },
   "outputs": [],
   "source": [
    "from db_tools import read_csv_profiles"
   ]
  },
  {
   "cell_type": "code",
   "execution_count": null,
   "metadata": {
    "collapsed": false
   },
   "outputs": [],
   "source": [
    "mwrtm = read_csv_profiles(\"../data/unified/training/TB_mwrtm.csv\")\n",
    "mwrtmfap = read_csv_profiles(\"../data/unified/training/TB_mwrtm_fap.csv\")\n",
    "monortm = read_csv_profiles(\"../data/unified/training/TB_monortm.csv\")\n",
    "igmk = read_csv_profiles(\"../data/unified/training/TB_igmk.csv\")\n",
    "cloudy_raso = read_csv_profiles(\"../data/unified/training/cloudy_raso.csv\")[\"cloudy\"]\n",
    "cloudy_igmk = read_csv_profiles(\"../data/unified/training/cloudy_igmk.csv\")[\"cloudy\"]\n",
    "\n",
    "zenith = [col for col in mwrtm.columns if col.endswith(\"_00.0\")]"
   ]
  },
  {
   "cell_type": "code",
   "execution_count": null,
   "metadata": {
    "collapsed": false
   },
   "outputs": [],
   "source": [
    "data1 = mwrtm.loc[~cloudy_raso,zenith]\n",
    "data2 = monortm.loc[~cloudy_raso,zenith]\n",
    "data3 = igmk.loc[~cloudy_igmk,zenith]\n",
    "data4 = mwrtmfap.loc[~cloudy_raso,zenith]\n",
    "grid = np.arange(0, data1.shape[1])\n",
    "mean12 = (data1 - data2).mean().values\n",
    "mean13 = (data1 - data3).mean().values\n",
    "mean14 = (data1 - data4).mean().values\n",
    "mn = np.random.multivariate_normal\n",
    "std12 = mn(mean=np.zeros_like(grid), cov=(data1 - data2).cov().values, size=1000).std(axis=0)\n",
    "std13 = mn(mean=np.zeros_like(grid), cov=(data1 - data3).cov().values, size=1000).std(axis=0)\n",
    "std14 = mn(mean=np.zeros_like(grid), cov=(data1 - data4).cov().values, size=1000).std(axis=0)\n",
    "freqs = [\"{:>5.2f}\".format(int(col[3:8])/1000) for col in data1.columns]\n",
    "\n",
    "gs = gridspec.GridSpec(2, 1, height_ratios=[3, 1]) \n",
    "fig = plt.figure(figsize=(7.5, 5.5))\n",
    "ax1 = fig.add_subplot(gs[0])\n",
    "ax2 = fig.add_subplot(gs[1])\n",
    "ax1.bar(grid-0.375, mean12, width=0.25, color=\"#666666\", zorder=-20, label=\"MWRTM - MonoRTM\")\n",
    "ax1.bar(grid-0.125, mean13, width=0.25, color=\"#BBBBBB\", zorder=-20, label=\"MWRTM - Rosenkranz\")\n",
    "ax1.bar(grid+0.125, mean14, width=0.25, color=\"#FFFFFF\", zorder=-20, label=\"MWRTM - MWRTM/FAP\")\n",
    "for ax in [ax1, ax2]:\n",
    "    ax.set_xticks(grid)\n",
    "    ax.set_xticklabels([\"{:>5.2f}\".format(int(col[3:8])/1000) for col in data1.columns], size=9)\n",
    "    ax.tick_params(bottom=\"off\", top=\"off\")\n",
    "    ax.set_yticks([-1.5, -1, -0.5, 0, 0.5, 1])\n",
    "    ax.set_title(\"1581 clear sky cases\", size=10, loc=\"right\")\n",
    "ax1.hlines(0, -0.5, 13.5, color=\"#000000\", zorder=-50)\n",
    "ax1.vlines(grid+0.5, -2.6, 2.1, color=\"#E0E0E0\", zorder=-55)\n",
    "ax1.set_ylim(-1.8, 1.3)\n",
    "ax1.set_title(\"mean model differences\", size=10, loc=\"left\")\n",
    "ax1.legend(loc=\"lower left\", fontsize=11);\n",
    "ax1.set_ylabel(\"brightness temperature [K]\")\n",
    "\n",
    "ax2.bar(grid-0.375, std12, width=0.25, color=\"#666666\", zorder=-20)\n",
    "ax2.bar(grid-0.125, std13, width=0.25, color=\"#BBBBBB\", zorder=-20)\n",
    "ax2.bar(grid+0.125, std14, width=0.25, color=\"#FFFFFF\", zorder=-20)\n",
    "ax2.set_ylabel(\"br. temp. [K]\")\n",
    "ax2.set_xlabel(\"channel frequency [GHz]\")\n",
    "ax2.set_title(\"root mean square of unbiased model differences\", size=10, loc=\"left\")\n",
    "ax2.set_ylim(0, 0.9)\n",
    "ax2.vlines(grid+0.5, 0, 0.9, color=\"#E0E0E0\", zorder=-55)\n",
    "\n",
    "fig.tight_layout()\n",
    "#fig.savefig(\"../tex/figures/model_comparison.pdf\")"
   ]
  },
  {
   "cell_type": "markdown",
   "metadata": {},
   "source": [
    "## Model Bias"
   ]
  },
  {
   "cell_type": "code",
   "execution_count": null,
   "metadata": {
    "collapsed": true
   },
   "outputs": [],
   "source": [
    "from db_tools import read_csv_mean"
   ]
  },
  {
   "cell_type": "code",
   "execution_count": null,
   "metadata": {
    "collapsed": false
   },
   "outputs": [],
   "source": [
    "mwrtm = read_csv_mean(\"../data/unified/priors/TB_mwrtm_bias.csv\")\n",
    "mwrtmfap = read_csv_mean(\"../data/unified/priors/TB_mwrtm_fap_bias.csv\")\n",
    "monortm = read_csv_mean(\"../data/unified/priors/TB_monortm_bias.csv\")\n",
    "\n",
    "zenith = [col for col in mwrtm.index if col.endswith(\"_00.0\")]\n",
    "freqs = [\"{:>5.2f}\".format(int(col[3:8])/1000) for col in zenith]\n",
    "grid = np.arange(0, len(zenith))"
   ]
  },
  {
   "cell_type": "code",
   "execution_count": null,
   "metadata": {
    "collapsed": false
   },
   "outputs": [],
   "source": [
    "fig, ax = plt.subplots(1, 1, figsize=(7.5, 3.5))\n",
    "ax.bar(grid-0.375, monortm.ix[zenith], width=0.25, color=\"#666666\", zorder=-20, label=\"MonoRTM\")\n",
    "ax.bar(grid-0.125, mwrtm.ix[zenith], width=0.25, color=\"#BBBBBB\", zorder=-20, label=\"MWRTM\")\n",
    "ax.bar(grid+0.125, mwrtmfap.ix[zenith], width=0.25, color=\"#FFFFFF\", zorder=-20, label=\"MWRTM/FAP\")\n",
    "\n",
    "ax.set_xticks(grid)\n",
    "ax.set_xticklabels([\"{:>5.2f}\".format(int(col[3:8])/1000) for col in zenith], size=9)\n",
    "ax.tick_params(bottom=\"off\", top=\"off\")\n",
    "#ax.set_yticks([-1.5, -1, -0.5, 0, 0.5, 1])\n",
    "ax.set_title(\"10 clear sky cases\", size=10, loc=\"right\")\n",
    "ax.hlines(0, -0.5, 13.5, color=\"#000000\", zorder=-50)\n",
    "ax.vlines(grid+0.5, -0.7, 3.7, color=\"#E0E0E0\", zorder=-55)\n",
    "ax.set_ylim(-0.7, 3.7)\n",
    "ax.set_title(\"RTM - HATPRO bias\", size=10, loc=\"left\")\n",
    "ax.legend(loc=\"upper right\", fontsize=11);\n",
    "ax.set_ylabel(\"brightness temperature [K]\")\n",
    "ax.set_xlabel(\"channel frequency [GHz]\")\n",
    "\n",
    "fig.tight_layout()\n",
    "#fig.savefig(\"../tex/figures/model_bias.pdf\")"
   ]
  },
  {
   "cell_type": "markdown",
   "metadata": {},
   "source": [
    "## Prior Distributions"
   ]
  },
  {
   "cell_type": "code",
   "execution_count": null,
   "metadata": {
    "collapsed": true
   },
   "outputs": [],
   "source": [
    "import datetime as dt\n",
    "from db_tools import iter_profiles, read_csv_covariance, read_csv_mean\n",
    "from optimal_estimation import rgrid"
   ]
  },
  {
   "cell_type": "markdown",
   "metadata": {
    "collapsed": true
   },
   "source": [
    "### COSMO7"
   ]
  },
  {
   "cell_type": "code",
   "execution_count": null,
   "metadata": {
    "collapsed": false
   },
   "outputs": [],
   "source": [
    "profiles = iter_profiles(\"../data/unified/priors/<VAR>_cosmo7+00+06_mean.csv\")\n",
    "Tcov = read_csv_covariance(\"../data/unified/priors/T_cosmo7+00+06_cov.csv\")\n",
    "lnqcov = read_csv_covariance(\"../data/unified/priors/lnq_cosmo7+00+06_cov.csv\")\n",
    "for valid, df in profiles:\n",
    "    if valid == dt.datetime(2015, 9, 11, 3, 48):\n",
    "        break\n",
    "T = df[\"T\"].values\n",
    "T_rand = np.random.multivariate_normal(mean=T, cov=Tcov.values, size=1000)\n",
    "T_std = np.std(T_rand, axis=0)\n",
    "lnq = df[\"lnq\"].values\n",
    "lnq_rand = np.random.multivariate_normal(mean=lnq, cov=lnqcov.values, size=1000)\n",
    "lnq_std = np.std(lnq_rand, axis=0)\n",
    "z = (rgrid - rgrid[0])/1000\n",
    "\n",
    "fig, (ax1, ax2) = plt.subplots(1, 2, figsize=(8, 3))\n",
    "\n",
    "ax1.plot(T, z, color=\"#000000\", linewidth=2, label=\"mean\", zorder=-10)\n",
    "ax1.fill_betweenx(z, T-T_std, T+T_std, color=\"#BBBBBB\", label=\"1σ\", zorder=-20)\n",
    "ax1.fill_betweenx(z, T-2*T_std, T+2*T_std, color=\"#E0E0E0\", label=\"2σ\", zorder=-30)\n",
    "ax1.set_ylim(0, 6)\n",
    "ax1.set_xlim(243, 292)\n",
    "ax1.set_title(\"COSMO-7 prior distributions\", loc=\"left\", size=11)\n",
    "ax1.set_ylabel(\"height above ground [km]\")\n",
    "ax1.set_xlabel(\"temperature [K]\")\n",
    "\n",
    "ax2.plot(np.exp(lnq), z, color=\"#000000\", linewidth=2, label=\"mean\", zorder=-10)\n",
    "ax2.fill_betweenx(z, np.exp(lnq-lnq_std), np.exp(lnq+lnq_std), color=\"#BBBBBB\", label=\"1σ\", zorder=-20)\n",
    "ax2.fill_betweenx(z, np.exp(lnq-2*lnq_std), np.exp(lnq+2*lnq_std), color=\"#E0E0E0\", label=\"2σ\", zorder=-30)\n",
    "ax2.set_xticks([0, 0.002, 0.004, 0.006, 0.008, 0.01])\n",
    "ax2.set_xticklabels([\"0\", \"2\", \"4\", \"6\", \"8\", \"10\"])\n",
    "ax2.set_ylim(0, 6)\n",
    "ax2.set_xlim(0, 0.0102)\n",
    "ax2.set_xlabel(\"total water content [g/kg]\")\n",
    "ax2.set_title(valid.strftime(\"%Y-%m-%d %H:%M UTC\"), loc=\"right\", size=11)\n",
    "ax2.label_outer()\n",
    "\n",
    "fig.tight_layout(pad=0.4)\n",
    "#ig.savefig(\"../tex/figures/cosmo7_prior.pdf\")"
   ]
  },
  {
   "cell_type": "markdown",
   "metadata": {
    "collapsed": true
   },
   "source": [
    "### Radiosonde Climatology"
   ]
  },
  {
   "cell_type": "code",
   "execution_count": null,
   "metadata": {
    "collapsed": false
   },
   "outputs": [],
   "source": [
    "T = read_csv_mean(\"../data/unified/priors/T_rasoclim_mean.csv\").values\n",
    "Tcov = read_csv_covariance(\"../data/unified/priors/T_rasoclim_cov.csv\").values\n",
    "lnq = read_csv_mean(\"../data/unified/priors/lnq_rasoclim_mean.csv\").values\n",
    "lnqcov = read_csv_covariance(\"../data/unified/priors/lnq_rasoclim_cov.csv\").values\n",
    "T_rand = np.random.multivariate_normal(mean=T, cov=Tcov, size=1000)\n",
    "T_std = np.std(T_rand, axis=0)\n",
    "lnq_rand = np.random.multivariate_normal(mean=lnq, cov=lnqcov, size=1000)\n",
    "lnq_std = np.std(lnq_rand, axis=0)\n",
    "z = (rgrid - rgrid[0])/1000\n",
    "\n",
    "fig, (ax1, ax2) = plt.subplots(1, 2, figsize=(8, 3))\n",
    "\n",
    "ax1.plot(T, z, color=\"#000000\", linewidth=2, label=\"mean\", zorder=-10)\n",
    "ax1.fill_betweenx(z, T-T_std, T+T_std, color=\"#BBBBBB\", label=\"1σ\", zorder=-20)\n",
    "ax1.fill_betweenx(z, T-2*T_std, T+2*T_std, color=\"#E0E0E0\", label=\"2σ\", zorder=-30)\n",
    "ax1.set_ylim(0, 12)\n",
    "ax1.set_xlim(202, 297)\n",
    "ax1.set_title(\"Radiosonde climatology\", loc=\"left\", size=11)\n",
    "ax1.set_ylabel(\"height above ground [km]\")\n",
    "ax1.set_xlabel(\"temperature [K]\")\n",
    "\n",
    "ax2.plot(np.exp(lnq), z, color=\"#000000\", linewidth=2, label=\"mean\", zorder=-10)\n",
    "ax2.fill_betweenx(z, np.exp(lnq-lnq_std), np.exp(lnq+lnq_std), color=\"#BBBBBB\", label=\"1σ\", zorder=-20)\n",
    "ax2.fill_betweenx(z, np.exp(lnq-2*lnq_std), np.exp(lnq+2*lnq_std), color=\"#E0E0E0\", label=\"2σ\", zorder=-30)\n",
    "ax2.set_xticks([0, 0.002, 0.004, 0.006, 0.008])\n",
    "ax2.set_xticklabels([\"0\", \"2\", \"4\", \"6\", \"8\"])\n",
    "ax2.set_ylim(0, 12)\n",
    "ax2.set_xlim(0., 0.0092)\n",
    "ax2.set_xlabel(\"total water content [g/kg]\")\n",
    "ax2.set_title(\"3561 profiles\", loc=\"right\", size=11)\n",
    "ax2.label_outer()\n",
    "\n",
    "fig.tight_layout(pad=0.4)\n",
    "#fig.savefig(\"../tex/figures/raso_prior.pdf\")"
   ]
  },
  {
   "cell_type": "code",
   "execution_count": null,
   "metadata": {
    "collapsed": true
   },
   "outputs": [],
   "source": []
  }
 ],
 "metadata": {
  "kernelspec": {
   "display_name": "Python 3",
   "language": "python",
   "name": "python3"
  },
  "language_info": {
   "codemirror_mode": {
    "name": "ipython",
    "version": 3
   },
   "file_extension": ".py",
   "mimetype": "text/x-python",
   "name": "python",
   "nbconvert_exporter": "python",
   "pygments_lexer": "ipython3",
   "version": "3.5.2"
  }
 },
 "nbformat": 4,
 "nbformat_minor": 0
}
