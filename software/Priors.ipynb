{
 "cells": [
  {
   "cell_type": "code",
   "execution_count": null,
   "metadata": {
    "collapsed": true
   },
   "outputs": [],
   "source": [
    "import numpy as np\n",
    "import pandas as pd\n",
    "import matplotlib.pyplot as plt\n",
    "\n",
    "import datetime as dt\n",
    "\n",
    "from db_tools import read_csv_covariance, read_csv_profiles\n",
    "\n",
    "%matplotlib inline"
   ]
  },
  {
   "cell_type": "markdown",
   "metadata": {},
   "source": [
    "## COSMO7\n",
    "\n",
    "- Interpolate to radiosonde launch time\n",
    "- Remove bias wrt to radiosonde\n",
    "- Save bias-corrected values and covariance matrix of errors"
   ]
  },
  {
   "cell_type": "code",
   "execution_count": null,
   "metadata": {
    "collapsed": true
   },
   "outputs": [],
   "source": [
    "def interpolate(target, dfs, hourbounds=(0, 6)):\n",
    "    lower = min(min(df.index) for df in dfs)\n",
    "    upper = max(max(df.index) for df in dfs)\n",
    "    idx = pd.Index([\n",
    "            d for d in target.index\n",
    "                    if lower <= d <= upper\n",
    "                    and hourbounds[0] <= d.hour <= hourbounds[1]\n",
    "            ], name=\"valid\")\n",
    "    out = pd.DataFrame(index=idx.union_many(df.index for df in dfs), columns=target.columns, dtype=float)\n",
    "    for df in dfs:\n",
    "        out.ix[df.index] = df\n",
    "    return idx, out.interpolate(method=\"time\", axis=0).ix[idx]"
   ]
  },
  {
   "cell_type": "code",
   "execution_count": null,
   "metadata": {
    "collapsed": true
   },
   "outputs": [],
   "source": [
    "def cosmo_prior(raso, dfl, dfh):\n",
    "    idx, itp = interpolate(raso, [dfl, dfh])\n",
    "    diff = raso.ix[idx] - itp\n",
    "    return itp + diff.mean(), diff.cov()"
   ]
  },
  {
   "cell_type": "markdown",
   "metadata": {},
   "source": [
    "### Temperature Prior"
   ]
  },
  {
   "cell_type": "code",
   "execution_count": null,
   "metadata": {
    "collapsed": false
   },
   "outputs": [],
   "source": [
    "raso = read_csv_profiles(\"../data/unified/T_raso.csv\")\n",
    "cosmo00 = read_csv_profiles(\"../data/unified/T_cosmo7+00.csv\")\n",
    "cosmo06 = read_csv_profiles(\"../data/unified/T_cosmo7+06.csv\")\n",
    "cosmo24 = read_csv_profiles(\"../data/unified/T_cosmo7+24.csv\")\n",
    "cosmo30 = read_csv_profiles(\"../data/unified/T_cosmo7+30.csv\")\n",
    "\n",
    "means0006, cov0006 = cosmo_prior(raso, cosmo00, cosmo06)\n",
    "means2430, cov2430 = cosmo_prior(raso, cosmo24, cosmo30)\n",
    "\n",
    "means0006.to_csv(\"../data/unified/priors/T_cosmo7+00+06_mean.csv\")\n",
    "means2430.to_csv(\"../data/unified/priors/T_cosmo7+24+30_mean.csv\")\n",
    "cov0006.to_csv(\"../data/unified/priors/T_cosmo7+00+06_cov.csv\")\n",
    "cov2430.to_csv(\"../data/unified/priors/T_cosmo7+24+30_cov.csv\")"
   ]
  },
  {
   "cell_type": "markdown",
   "metadata": {},
   "source": [
    "### Humidity Prior"
   ]
  },
  {
   "cell_type": "code",
   "execution_count": null,
   "metadata": {
    "collapsed": false
   },
   "outputs": [],
   "source": [
    "raso = read_csv_profiles(\"../data/unified/qvap_raso.csv\")\n",
    "cosmo00 = read_csv_profiles(\"../data/unified/qvap_cosmo7+00.csv\")\n",
    "cosmo06 = read_csv_profiles(\"../data/unified/qvap_cosmo7+06.csv\")\n",
    "cosmo24 = read_csv_profiles(\"../data/unified/qvap_cosmo7+24.csv\")\n",
    "cosmo30 = read_csv_profiles(\"../data/unified/qvap_cosmo7+30.csv\")\n",
    "\n",
    "raso += read_csv_profiles(\"../data/unified/qliq_raso.csv\")\n",
    "cosmo00 += read_csv_profiles(\"../data/unified/qliq_cosmo7+00.csv\")\n",
    "cosmo06 += read_csv_profiles(\"../data/unified/qliq_cosmo7+06.csv\")\n",
    "cosmo24 += read_csv_profiles(\"../data/unified/qliq_cosmo7+24.csv\")\n",
    "cosmo30 += read_csv_profiles(\"../data/unified/qliq_cosmo7+30.csv\")\n",
    "\n",
    "means0006, cov0006 = cosmo_prior(np.log(raso), np.log(cosmo00), np.log(cosmo06))\n",
    "means2430, cov2430 = cosmo_prior(np.log(raso), np.log(cosmo24), np.log(cosmo30))\n",
    "\n",
    "means0006.to_csv(\"../data/unified/priors/lnq_cosmo7+00+06_mean.csv\")\n",
    "means2430.to_csv(\"../data/unified/priors/lnq_cosmo7+24+30_mean.csv\")\n",
    "cov0006.to_csv(\"../data/unified/priors/lnq_cosmo7+00+06_cov.csv\")\n",
    "cov2430.to_csv(\"../data/unified/priors/lnq_cosmo7+24+30_cov.csv\")"
   ]
  },
  {
   "cell_type": "code",
   "execution_count": null,
   "metadata": {
    "collapsed": true
   },
   "outputs": [],
   "source": []
  }
 ],
 "metadata": {
  "kernelspec": {
   "display_name": "Python 3",
   "language": "python",
   "name": "python3"
  },
  "language_info": {
   "codemirror_mode": {
    "name": "ipython",
    "version": 3
   },
   "file_extension": ".py",
   "mimetype": "text/x-python",
   "name": "python",
   "nbconvert_exporter": "python",
   "pygments_lexer": "ipython3",
   "version": "3.5.2"
  }
 },
 "nbformat": 4,
 "nbformat_minor": 0
}
