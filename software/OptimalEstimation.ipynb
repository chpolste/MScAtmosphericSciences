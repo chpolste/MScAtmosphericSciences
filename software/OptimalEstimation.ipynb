{
 "cells": [
  {
   "cell_type": "markdown",
   "metadata": {},
   "source": [
    "# Optimal Estimation Retrievals\n",
    "\n",
    "The case studies."
   ]
  },
  {
   "cell_type": "code",
   "execution_count": null,
   "metadata": {
    "collapsed": false
   },
   "outputs": [],
   "source": [
    "import numpy as np\n",
    "import pandas as pd\n",
    "import matplotlib.pyplot as plt\n",
    "\n",
    "from db_tools import (read_csv_profiles, read_csv_covariance,\n",
    "        iter_profiles, split_bands)\n",
    "from optimal_estimation import (VirtualHATPRO, VirtualHATPRO_Kband,\n",
    "        VirtualHATPRO_Vband, Gaussian, rgrid, mgrid, paramseq, z_hatpro, z_top)\n",
    "\n",
    "from plots import retrieval_template\n",
    "\n",
    "%matplotlib inline\n",
    "\n",
    "plt.rcParams[\"font.family\"] = \"DejaVu Sans\""
   ]
  },
  {
   "cell_type": "markdown",
   "metadata": {},
   "source": [
    "## Data Preparation"
   ]
  },
  {
   "cell_type": "code",
   "execution_count": null,
   "metadata": {
    "collapsed": false
   },
   "outputs": [],
   "source": [
    "obs_cov = read_csv_covariance(\"../data/unified/priors/TB_mwrtm_fap_igmk_cov.csv\")\n",
    "obs_cov_k, obs_cov_v = split_bands(obs_cov)\n",
    "\n",
    "# Add 0.5 K uncorrelated instrument noise\n",
    "obs_cov = obs_cov + 0.5*np.eye(obs_cov.shape[0])\n",
    "obs_cov_k = obs_cov_k + 0.5*np.eye(obs_cov_k.shape[0])\n",
    "obs_cov_v = obs_cov_v + 0.5*np.eye(obs_cov_v.shape[0])\n",
    "\n",
    "obs_error = Gaussian(np.zeros(obs_cov.shape[0]), obs_cov)\n",
    "obs_error_k = Gaussian(np.zeros(obs_cov_k.shape[0]), obs_cov_k)\n",
    "obs_error_v = Gaussian(np.zeros(obs_cov_v.shape[0]), obs_cov_v)"
   ]
  },
  {
   "cell_type": "code",
   "execution_count": null,
   "metadata": {
    "collapsed": false
   },
   "outputs": [],
   "source": [
    "p = read_csv_profiles(\"../data/unified/test/psfc.csv\")\n",
    "\n",
    "prior_cov = read_csv_covariance(\"../data/unified/priors/x_cosmo7+00+06_cov.csv\")\n",
    "prior_means = read_csv_profiles(\"../data/unified/priors/x_cosmo7+00+06_mean.csv\")\n",
    "\n",
    "ys = read_csv_profiles(\"../data/unified/test/TB_mwrtm.csv\")\n",
    "ys = ys + np.random.normal(0., scale=0.5, size=ys.shape)\n",
    "ys_k, ys_v = split_bands(ys)"
   ]
  },
  {
   "cell_type": "code",
   "execution_count": null,
   "metadata": {
    "collapsed": true
   },
   "outputs": [],
   "source": [
    "def profiles_to_dict(pattern):\n",
    "    return dict((k.strftime(\"%Y-%m-%d %H:%M:%S\"), v) for k, v in iter_profiles(pattern))\n",
    "\n",
    "profiles = profiles_to_dict(\"../data/unified/test/<VAR>_rasoclim.csv\")\n",
    "regprofiles = profiles_to_dict(\"../data/unified/retrievals/<VAR>_regression.csv\")"
   ]
  },
  {
   "cell_type": "code",
   "execution_count": null,
   "metadata": {
    "collapsed": false
   },
   "outputs": [],
   "source": [
    "def to_state(profile):\n",
    "    return np.hstack([profile[\"T\"].values, profile[\"lnq\"].values]).reshape(-1, 1)\n",
    "\n",
    "def to_profile(state):\n",
    "    T = state[:50]\n",
    "    lnq = state[50:]\n",
    "    return pd.DataFrame(np.hstack([T, lnq]), columns=[\"T\", \"lnq\"], index=[\"z={}m\".format(int(z)) for z in rgrid])\n",
    "\n",
    "def get_prior(valid):\n",
    "    return Gaussian(prior_means.loc[valid,:].values.reshape(-1, 1), prior_cov)"
   ]
  },
  {
   "cell_type": "markdown",
   "metadata": {},
   "source": [
    "## Plots"
   ]
  },
  {
   "cell_type": "code",
   "execution_count": null,
   "metadata": {
    "collapsed": true
   },
   "outputs": [],
   "source": [
    "plotgrid = (rgrid-z_hatpro)/1000"
   ]
  },
  {
   "cell_type": "code",
   "execution_count": null,
   "metadata": {
    "collapsed": true
   },
   "outputs": [],
   "source": [
    "def plot_raso(axT, axq, valid, color=\"#000000\", label=\"raso\", zorder=None):\n",
    "    profile = profiles[valid]\n",
    "    axT.plot(profile[\"T\"].values, plotgrid, linewidth=2, color=color, label=label, zorder=zorder)\n",
    "    axq.plot(np.exp(profile[\"lnq\"].values)*1000, plotgrid, linewidth=2, color=color, label=label, zorder=zorder)\n",
    "\n",
    "def plot_regression(axT, axq, valid, color=\"#33a02c\", label=\"regression\", zorder=None):\n",
    "    profile = regprofiles[valid]\n",
    "    axT.plot(profile[\"T\"].values, plotgrid, linewidth=2, color=color, label=label, zorder=zorder)\n",
    "    axq.plot(np.exp(profile[\"lnq\"].values)*1000, plotgrid, linewidth=2, color=color, label=label, zorder=zorder)\n",
    "\n",
    "def plot_prior(axT, axq, valid, color=\"#666666\", label=\"COSMO-7\", zorder=None):\n",
    "    profile = to_profile(get_prior(valid).mean)\n",
    "    axT.plot(profile[\"T\"].values, plotgrid, linewidth=2, color=color, label=label, zorder=zorder)\n",
    "    axq.plot(np.exp(profile[\"lnq\"].values)*1000, plotgrid, linewidth=2, color=color, label=label, zorder=zorder)\n",
    "\n",
    "def plot_retrieval(axT, axq, ret, iteration, color=\"#1f78b4\", label=\"optimal estimation\", uncertainty=False, zorder=None):\n",
    "    profile = to_profile(ret.μs[iteration])\n",
    "    axT.plot(profile[\"T\"].values, plotgrid, linewidth=2, color=color, label=label, zorder=zorder)\n",
    "    axq.plot(np.exp(profile[\"lnq\"].values)*1000, plotgrid, linewidth=2, color=color, label=label, zorder=zorder)\n",
    "    if uncertainty:\n",
    "        cov = ret.covs[iteration]\n",
    "        std = np.random.multivariate_normal(np.zeros(cov.shape[0]), cov, size=1000).std(axis=0).reshape(-1, 1)\n",
    "        std = to_profile(std)\n",
    "        lower, upper = profile-std, profile+std\n",
    "        axT.fill_betweenx(plotgrid, lower[\"T\"].values, upper[\"T\"].values, color=color, alpha=0.25, zorder=zorder-50)\n",
    "        axq.fill_betweenx(plotgrid, np.exp(lower[\"lnq\"].values)*1000, np.exp(upper[\"lnq\"].values)*1000, color=color, alpha=0.3, zorder=zorder-50)"
   ]
  },
  {
   "cell_type": "markdown",
   "metadata": {},
   "source": [
    "## Retrieval Setup"
   ]
  },
  {
   "cell_type": "code",
   "execution_count": null,
   "metadata": {
    "collapsed": false
   },
   "outputs": [],
   "source": [
    "vh = VirtualHATPRO(z_retrieval=rgrid, z_model=mgrid, error=obs_error, params=paramseq)\n",
    "vh_k = VirtualHATPRO_Kband(z_retrieval=rgrid, z_model=mgrid, error=obs_error_k, params=paramseq)\n",
    "vh_v = VirtualHATPRO_Vband(z_retrieval=rgrid, z_model=mgrid, error=obs_error_v, params=paramseq)"
   ]
  },
  {
   "cell_type": "markdown",
   "metadata": {},
   "source": [
    "## Case Study Dates"
   ]
  },
  {
   "cell_type": "code",
   "execution_count": null,
   "metadata": {
    "collapsed": true
   },
   "outputs": [],
   "source": [
    "case1 = \"2015-10-28 02:15:05\" # Ground-based inversion\n",
    "case2 = \"2015-09-11 03:48:00\" # Elevated inversion, cloudy"
   ]
  },
  {
   "cell_type": "markdown",
   "metadata": {},
   "source": [
    "## Case 1"
   ]
  },
  {
   "cell_type": "code",
   "execution_count": null,
   "metadata": {
    "collapsed": false
   },
   "outputs": [],
   "source": [
    "valid = case1\n",
    "\n",
    "prior = get_prior(valid)\n",
    "p0 = float(p.loc[valid,\"p\"])\n",
    "y = ys.loc[valid,:].values.reshape(-1, 1)\n",
    "\n",
    "%time ret = vh.retrieve(y, p0, prior.mean, prior, max_iterations=20)"
   ]
  },
  {
   "cell_type": "code",
   "execution_count": null,
   "metadata": {
    "collapsed": false
   },
   "outputs": [],
   "source": [
    "fig, (axT1, axT2, axq1, axq2) = retrieval_template(figsize=[8, 7],\n",
    "        Tlims=[(210, 288), (0, 12), (273, 286), (0, 2.5)],\n",
    "        qlims=[(0, 5.1), (0, 12), (1.8, 5.1), (0, 2.5)]\n",
    "        )\n",
    "\n",
    "plot_raso(axT1, axq1, case1, zorder=-30)\n",
    "plot_raso(axT2, axq2, case1, zorder=-30)\n",
    "plot_retrieval(axT1, axq1, ret, 12, uncertainty=True, zorder=-40)\n",
    "plot_retrieval(axT2, axq2, ret, 12, uncertainty=True, zorder=-40)\n",
    "plot_regression(axT1, axq1, case1, zorder=-45)\n",
    "plot_regression(axT2, axq2, case1, zorder=-45)\n",
    "\n",
    "axT1.set_ylabel(\"height above ground [km]\")\n",
    "axT2.set_ylabel(\"height above ground [km]\")\n",
    "axq1.legend(loc=\"upper right\", fontsize=11)\n",
    "axT1.set_title(\"\", loc=\"left\", size=11)\n",
    "\n",
    "fig.tight_layout()"
   ]
  },
  {
   "cell_type": "code",
   "execution_count": null,
   "metadata": {
    "collapsed": false
   },
   "outputs": [],
   "source": [
    "fig, (ax1, ax2) = plt.subplots(1, 2, figsize=[8, 4.2])\n",
    "\n",
    "ax1.plot(to_profile(ret.μs[0])[\"T\"].values, plotgrid, linewidth=2, color=\"#BBBBBB\", label=\"COSMO-7\", zorder=-60)\n",
    "ax1.plot(to_profile(ret.μs[3])[\"T\"].values, plotgrid, linewidth=2, color=\"#999999\", label=\"3 iterations\", zorder=-50)\n",
    "ax1.plot(to_profile(ret.μs[6])[\"T\"].values, plotgrid, linewidth=2, color=\"#666666\", label=\"6 iterations\", zorder=-40)\n",
    "\n",
    "ax2.plot(to_profile(ret.μs[6])[\"T\"].values, plotgrid, linewidth=2, color=\"#666666\", label=\"6 iterations\", zorder=-40)\n",
    "ax2.plot(to_profile(ret.μs[9])[\"T\"].values, plotgrid, linewidth=2, color=\"#333333\", label=\"9 iterations\", zorder=-30)\n",
    "ax2.plot(to_profile(ret.μs[12])[\"T\"].values, plotgrid, linewidth=2, color=\"#1f78b4\", label=\"12 iterations\", zorder=-20)\n",
    "\n",
    "for ax in [ax1, ax2]:\n",
    "    ax.plot(profiles[valid][\"T\"].values, plotgrid, linewidth=2, color=\"#000000\", label=\"raso\", zorder=-70)\n",
    "    ax.set_xlim(273, 286)\n",
    "    ax.set_ylim(0, 2.5)\n",
    "    ax.set_ylabel(\"height above ground [km]\")\n",
    "    ax.legend(loc=\"upper right\", fontsize=11)\n",
    "\n",
    "ax1.set_title(\"optimal estimation iteration states\", loc=\"left\", size=11)\n",
    "ax2.set_title(\"MWRTM, \" + case1, loc=\"right\", size=11)\n",
    "\n",
    "fig.tight_layout()"
   ]
  },
  {
   "cell_type": "markdown",
   "metadata": {},
   "source": [
    "## Case 2"
   ]
  },
  {
   "cell_type": "code",
   "execution_count": null,
   "metadata": {
    "collapsed": true
   },
   "outputs": [],
   "source": []
  }
 ],
 "metadata": {
  "kernelspec": {
   "display_name": "Python 3",
   "language": "python",
   "name": "python3"
  },
  "language_info": {
   "codemirror_mode": {
    "name": "ipython",
    "version": 3
   },
   "file_extension": ".py",
   "mimetype": "text/x-python",
   "name": "python",
   "nbconvert_exporter": "python",
   "pygments_lexer": "ipython3",
   "version": "3.5.2"
  }
 },
 "nbformat": 4,
 "nbformat_minor": 0
}
